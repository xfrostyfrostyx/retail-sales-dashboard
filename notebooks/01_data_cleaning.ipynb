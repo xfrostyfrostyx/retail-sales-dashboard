{
 "cells": [
  {
   "cell_type": "markdown",
   "id": "3c5fd531",
   "metadata": {},
   "source": [
    "# Step 0: Import and Preview Dataset\n",
    "\n",
    "In this step, we import the necessary libraries and load the raw `Superstore.csv` dataset using pandas. We'll also take an initial look at the data to understand its structure."
   ]
  },
  {
   "cell_type": "code",
   "execution_count": 1,
   "id": "4c0f3065",
   "metadata": {},
   "outputs": [
    {
     "name": "stdout",
     "output_type": "stream",
     "text": [
      "Dataset shape: (9994, 21)\n"
     ]
    },
    {
     "data": {
      "text/html": [
       "<div>\n",
       "<style scoped>\n",
       "    .dataframe tbody tr th:only-of-type {\n",
       "        vertical-align: middle;\n",
       "    }\n",
       "\n",
       "    .dataframe tbody tr th {\n",
       "        vertical-align: top;\n",
       "    }\n",
       "\n",
       "    .dataframe thead th {\n",
       "        text-align: right;\n",
       "    }\n",
       "</style>\n",
       "<table border=\"1\" class=\"dataframe\">\n",
       "  <thead>\n",
       "    <tr style=\"text-align: right;\">\n",
       "      <th></th>\n",
       "      <th>Row ID</th>\n",
       "      <th>Order ID</th>\n",
       "      <th>Order Date</th>\n",
       "      <th>Ship Date</th>\n",
       "      <th>Ship Mode</th>\n",
       "      <th>Customer ID</th>\n",
       "      <th>Customer Name</th>\n",
       "      <th>Segment</th>\n",
       "      <th>Country</th>\n",
       "      <th>City</th>\n",
       "      <th>...</th>\n",
       "      <th>Postal Code</th>\n",
       "      <th>Region</th>\n",
       "      <th>Product ID</th>\n",
       "      <th>Category</th>\n",
       "      <th>Sub-Category</th>\n",
       "      <th>Product Name</th>\n",
       "      <th>Sales</th>\n",
       "      <th>Quantity</th>\n",
       "      <th>Discount</th>\n",
       "      <th>Profit</th>\n",
       "    </tr>\n",
       "  </thead>\n",
       "  <tbody>\n",
       "    <tr>\n",
       "      <th>0</th>\n",
       "      <td>1</td>\n",
       "      <td>CA-2016-152156</td>\n",
       "      <td>11/8/2016</td>\n",
       "      <td>11/11/2016</td>\n",
       "      <td>Second Class</td>\n",
       "      <td>CG-12520</td>\n",
       "      <td>Claire Gute</td>\n",
       "      <td>Consumer</td>\n",
       "      <td>United States</td>\n",
       "      <td>Henderson</td>\n",
       "      <td>...</td>\n",
       "      <td>42420</td>\n",
       "      <td>South</td>\n",
       "      <td>FUR-BO-10001798</td>\n",
       "      <td>Furniture</td>\n",
       "      <td>Bookcases</td>\n",
       "      <td>Bush Somerset Collection Bookcase</td>\n",
       "      <td>261.9600</td>\n",
       "      <td>2</td>\n",
       "      <td>0.00</td>\n",
       "      <td>41.9136</td>\n",
       "    </tr>\n",
       "    <tr>\n",
       "      <th>1</th>\n",
       "      <td>2</td>\n",
       "      <td>CA-2016-152156</td>\n",
       "      <td>11/8/2016</td>\n",
       "      <td>11/11/2016</td>\n",
       "      <td>Second Class</td>\n",
       "      <td>CG-12520</td>\n",
       "      <td>Claire Gute</td>\n",
       "      <td>Consumer</td>\n",
       "      <td>United States</td>\n",
       "      <td>Henderson</td>\n",
       "      <td>...</td>\n",
       "      <td>42420</td>\n",
       "      <td>South</td>\n",
       "      <td>FUR-CH-10000454</td>\n",
       "      <td>Furniture</td>\n",
       "      <td>Chairs</td>\n",
       "      <td>Hon Deluxe Fabric Upholstered Stacking Chairs,...</td>\n",
       "      <td>731.9400</td>\n",
       "      <td>3</td>\n",
       "      <td>0.00</td>\n",
       "      <td>219.5820</td>\n",
       "    </tr>\n",
       "    <tr>\n",
       "      <th>2</th>\n",
       "      <td>3</td>\n",
       "      <td>CA-2016-138688</td>\n",
       "      <td>6/12/2016</td>\n",
       "      <td>6/16/2016</td>\n",
       "      <td>Second Class</td>\n",
       "      <td>DV-13045</td>\n",
       "      <td>Darrin Van Huff</td>\n",
       "      <td>Corporate</td>\n",
       "      <td>United States</td>\n",
       "      <td>Los Angeles</td>\n",
       "      <td>...</td>\n",
       "      <td>90036</td>\n",
       "      <td>West</td>\n",
       "      <td>OFF-LA-10000240</td>\n",
       "      <td>Office Supplies</td>\n",
       "      <td>Labels</td>\n",
       "      <td>Self-Adhesive Address Labels for Typewriters b...</td>\n",
       "      <td>14.6200</td>\n",
       "      <td>2</td>\n",
       "      <td>0.00</td>\n",
       "      <td>6.8714</td>\n",
       "    </tr>\n",
       "    <tr>\n",
       "      <th>3</th>\n",
       "      <td>4</td>\n",
       "      <td>US-2015-108966</td>\n",
       "      <td>10/11/2015</td>\n",
       "      <td>10/18/2015</td>\n",
       "      <td>Standard Class</td>\n",
       "      <td>SO-20335</td>\n",
       "      <td>Sean O'Donnell</td>\n",
       "      <td>Consumer</td>\n",
       "      <td>United States</td>\n",
       "      <td>Fort Lauderdale</td>\n",
       "      <td>...</td>\n",
       "      <td>33311</td>\n",
       "      <td>South</td>\n",
       "      <td>FUR-TA-10000577</td>\n",
       "      <td>Furniture</td>\n",
       "      <td>Tables</td>\n",
       "      <td>Bretford CR4500 Series Slim Rectangular Table</td>\n",
       "      <td>957.5775</td>\n",
       "      <td>5</td>\n",
       "      <td>0.45</td>\n",
       "      <td>-383.0310</td>\n",
       "    </tr>\n",
       "    <tr>\n",
       "      <th>4</th>\n",
       "      <td>5</td>\n",
       "      <td>US-2015-108966</td>\n",
       "      <td>10/11/2015</td>\n",
       "      <td>10/18/2015</td>\n",
       "      <td>Standard Class</td>\n",
       "      <td>SO-20335</td>\n",
       "      <td>Sean O'Donnell</td>\n",
       "      <td>Consumer</td>\n",
       "      <td>United States</td>\n",
       "      <td>Fort Lauderdale</td>\n",
       "      <td>...</td>\n",
       "      <td>33311</td>\n",
       "      <td>South</td>\n",
       "      <td>OFF-ST-10000760</td>\n",
       "      <td>Office Supplies</td>\n",
       "      <td>Storage</td>\n",
       "      <td>Eldon Fold 'N Roll Cart System</td>\n",
       "      <td>22.3680</td>\n",
       "      <td>2</td>\n",
       "      <td>0.20</td>\n",
       "      <td>2.5164</td>\n",
       "    </tr>\n",
       "  </tbody>\n",
       "</table>\n",
       "<p>5 rows × 21 columns</p>\n",
       "</div>"
      ],
      "text/plain": [
       "   Row ID        Order ID  Order Date   Ship Date       Ship Mode Customer ID  \\\n",
       "0       1  CA-2016-152156   11/8/2016  11/11/2016    Second Class    CG-12520   \n",
       "1       2  CA-2016-152156   11/8/2016  11/11/2016    Second Class    CG-12520   \n",
       "2       3  CA-2016-138688   6/12/2016   6/16/2016    Second Class    DV-13045   \n",
       "3       4  US-2015-108966  10/11/2015  10/18/2015  Standard Class    SO-20335   \n",
       "4       5  US-2015-108966  10/11/2015  10/18/2015  Standard Class    SO-20335   \n",
       "\n",
       "     Customer Name    Segment        Country             City  ...  \\\n",
       "0      Claire Gute   Consumer  United States        Henderson  ...   \n",
       "1      Claire Gute   Consumer  United States        Henderson  ...   \n",
       "2  Darrin Van Huff  Corporate  United States      Los Angeles  ...   \n",
       "3   Sean O'Donnell   Consumer  United States  Fort Lauderdale  ...   \n",
       "4   Sean O'Donnell   Consumer  United States  Fort Lauderdale  ...   \n",
       "\n",
       "  Postal Code  Region       Product ID         Category Sub-Category  \\\n",
       "0       42420   South  FUR-BO-10001798        Furniture    Bookcases   \n",
       "1       42420   South  FUR-CH-10000454        Furniture       Chairs   \n",
       "2       90036    West  OFF-LA-10000240  Office Supplies       Labels   \n",
       "3       33311   South  FUR-TA-10000577        Furniture       Tables   \n",
       "4       33311   South  OFF-ST-10000760  Office Supplies      Storage   \n",
       "\n",
       "                                        Product Name     Sales  Quantity  \\\n",
       "0                  Bush Somerset Collection Bookcase  261.9600         2   \n",
       "1  Hon Deluxe Fabric Upholstered Stacking Chairs,...  731.9400         3   \n",
       "2  Self-Adhesive Address Labels for Typewriters b...   14.6200         2   \n",
       "3      Bretford CR4500 Series Slim Rectangular Table  957.5775         5   \n",
       "4                     Eldon Fold 'N Roll Cart System   22.3680         2   \n",
       "\n",
       "   Discount    Profit  \n",
       "0      0.00   41.9136  \n",
       "1      0.00  219.5820  \n",
       "2      0.00    6.8714  \n",
       "3      0.45 -383.0310  \n",
       "4      0.20    2.5164  \n",
       "\n",
       "[5 rows x 21 columns]"
      ]
     },
     "execution_count": 1,
     "metadata": {},
     "output_type": "execute_result"
    }
   ],
   "source": [
    "import pandas as pd\n",
    "\n",
    "# Load CSV with correct encoding\n",
    "file_path = '../data/Superstore.csv'\n",
    "df = pd.read_csv(file_path, encoding='cp1252')  # Use 'cp1252' to avoid UnicodeDecodeError\n",
    "\n",
    "# Preview shape and first few rows\n",
    "print(f\"Dataset shape: {df.shape}\")\n",
    "df.head()"
   ]
  },
  {
   "cell_type": "markdown",
   "id": "103f3ee5",
   "metadata": {},
   "source": [
    "# Step 1: Clean Column Names & Inspect Data Types\n",
    "\n",
    "In this step, we clean the column names by converting them to lowercase and replacing spaces with underscores for easier access in Python.  \n",
    "We'll also inspect the data types to identify columns that may need conversion (e.g., dates).\n",
    "\n",
    "# In addition, why replace spaces with underscores?\n",
    "Because:\n",
    "- Underscores are valid in Python variable names\n",
    "- They make column names compatible with dot notation\n",
    "- They follow PEP 8 naming style: lower_case_with_underscores"
   ]
  },
  {
   "cell_type": "code",
   "execution_count": 2,
   "id": "790212bb",
   "metadata": {},
   "outputs": [
    {
     "name": "stdout",
     "output_type": "stream",
     "text": [
      "Original column names:\n",
      "['Row ID', 'Order ID', 'Order Date', 'Ship Date', 'Ship Mode', 'Customer ID', 'Customer Name', 'Segment', 'Country', 'City', 'State', 'Postal Code', 'Region', 'Product ID', 'Category', 'Sub-Category', 'Product Name', 'Sales', 'Quantity', 'Discount', 'Profit']\n",
      "\n",
      "Cleaned column names:\n",
      "['row_id', 'order_id', 'order_date', 'ship_date', 'ship_mode', 'customer_id', 'customer_name', 'segment', 'country', 'city', 'state', 'postal_code', 'region', 'product_id', 'category', 'sub-category', 'product_name', 'sales', 'quantity', 'discount', 'profit']\n",
      "\n",
      "Data types:\n",
      "row_id             int64\n",
      "order_id          object\n",
      "order_date        object\n",
      "ship_date         object\n",
      "ship_mode         object\n",
      "customer_id       object\n",
      "customer_name     object\n",
      "segment           object\n",
      "country           object\n",
      "city              object\n",
      "state             object\n",
      "postal_code        int64\n",
      "region            object\n",
      "product_id        object\n",
      "category          object\n",
      "sub-category      object\n",
      "product_name      object\n",
      "sales            float64\n",
      "quantity           int64\n",
      "discount         float64\n",
      "profit           float64\n",
      "dtype: object\n"
     ]
    }
   ],
   "source": [
    "# Show original column names\n",
    "print(\"Original column names:\")\n",
    "print(df.columns.tolist())\n",
    "\n",
    "# Clean column names: lowercase + replace spaces with underscores\n",
    "df.columns = [col.strip().lower().replace(' ', '_') for col in df.columns]\n",
    "\n",
    "# Confirm the changes\n",
    "print(\"\\nCleaned column names:\")\n",
    "print(df.columns.tolist())\n",
    "\n",
    "# Check data types of all columns\n",
    "print(\"\\nData types:\")\n",
    "print(df.dtypes)\n"
   ]
  },
  {
   "cell_type": "markdown",
   "id": "71db6fa0",
   "metadata": {},
   "source": [
    "# Step 2: Convert Date Columns\n",
    "\n",
    "The `order_date` and `ship_date` columns are currently stored as strings.  \n",
    "We’ll convert them to `datetime` objects using `pd.to_datetime()` so we can:\n",
    "- Extract year, month, day\n",
    "- Calculate shipping duration\n",
    "- Group by month or year\n",
    "\n",
    "We’ll also handle any parsing errors gracefully.\n"
   ]
  },
  {
   "cell_type": "code",
   "execution_count": 3,
   "id": "3a7ab91f",
   "metadata": {},
   "outputs": [
    {
     "name": "stdout",
     "output_type": "stream",
     "text": [
      "Order date conversion - null values: 0\n",
      "Ship date conversion - null values: 0\n",
      "\n",
      "Data types:\n",
      "order_date    datetime64[ns]\n",
      "ship_date     datetime64[ns]\n",
      "dtype: object\n"
     ]
    },
    {
     "data": {
      "text/html": [
       "<div>\n",
       "<style scoped>\n",
       "    .dataframe tbody tr th:only-of-type {\n",
       "        vertical-align: middle;\n",
       "    }\n",
       "\n",
       "    .dataframe tbody tr th {\n",
       "        vertical-align: top;\n",
       "    }\n",
       "\n",
       "    .dataframe thead th {\n",
       "        text-align: right;\n",
       "    }\n",
       "</style>\n",
       "<table border=\"1\" class=\"dataframe\">\n",
       "  <thead>\n",
       "    <tr style=\"text-align: right;\">\n",
       "      <th></th>\n",
       "      <th>order_date</th>\n",
       "      <th>ship_date</th>\n",
       "    </tr>\n",
       "  </thead>\n",
       "  <tbody>\n",
       "    <tr>\n",
       "      <th>0</th>\n",
       "      <td>2016-11-08</td>\n",
       "      <td>2016-11-11</td>\n",
       "    </tr>\n",
       "    <tr>\n",
       "      <th>1</th>\n",
       "      <td>2016-11-08</td>\n",
       "      <td>2016-11-11</td>\n",
       "    </tr>\n",
       "    <tr>\n",
       "      <th>2</th>\n",
       "      <td>2016-06-12</td>\n",
       "      <td>2016-06-16</td>\n",
       "    </tr>\n",
       "    <tr>\n",
       "      <th>3</th>\n",
       "      <td>2015-10-11</td>\n",
       "      <td>2015-10-18</td>\n",
       "    </tr>\n",
       "    <tr>\n",
       "      <th>4</th>\n",
       "      <td>2015-10-11</td>\n",
       "      <td>2015-10-18</td>\n",
       "    </tr>\n",
       "  </tbody>\n",
       "</table>\n",
       "</div>"
      ],
      "text/plain": [
       "  order_date  ship_date\n",
       "0 2016-11-08 2016-11-11\n",
       "1 2016-11-08 2016-11-11\n",
       "2 2016-06-12 2016-06-16\n",
       "3 2015-10-11 2015-10-18\n",
       "4 2015-10-11 2015-10-18"
      ]
     },
     "execution_count": 3,
     "metadata": {},
     "output_type": "execute_result"
    }
   ],
   "source": [
    "# Convert order_date and ship_date to datetime\n",
    "df['order_date'] = pd.to_datetime(df['order_date'], errors='coerce')\n",
    "df['ship_date'] = pd.to_datetime(df['ship_date'], errors='coerce')\n",
    "\n",
    "# Check for any parsing errors (NaT = Not a Time)\n",
    "print(\"Order date conversion - null values:\", df['order_date'].isnull().sum())\n",
    "print(\"Ship date conversion - null values:\", df['ship_date'].isnull().sum())\n",
    "\n",
    "# Check data types of all columns\n",
    "print(\"\\nData types:\")\n",
    "print(df[['order_date', 'ship_date']].dtypes)\n",
    "\n",
    "# Preview a few rows\n",
    "df[['order_date', 'ship_date']].head()"
   ]
  },
  {
   "cell_type": "markdown",
   "id": "590f0631",
   "metadata": {},
   "source": [
    "# Step 3: Check and Remove Duplicates\n",
    "\n",
    "In this step, we check for and remove any duplicate rows in the dataset.  \n",
    "Duplicate transactions can affect total sales, average profit, and other metrics, so it’s important to ensure each row represents a unique order line.\n"
   ]
  },
  {
   "cell_type": "code",
   "execution_count": 4,
   "id": "bfd12adb",
   "metadata": {},
   "outputs": [
    {
     "name": "stdout",
     "output_type": "stream",
     "text": [
      "Duplicate rows found: 0\n",
      "New dataset shape: (9994, 21)\n"
     ]
    }
   ],
   "source": [
    "# Count duplicate rows\n",
    "duplicate_count = df.duplicated().sum()\n",
    "print(f\"Duplicate rows found: {duplicate_count}\")\n",
    "\n",
    "# Remove duplicates\n",
    "df = df.drop_duplicates()\n",
    "\n",
    "# Confirm shape after removal\n",
    "print(f\"New dataset shape: {df.shape}\")\n"
   ]
  },
  {
   "cell_type": "markdown",
   "id": "ed9af653",
   "metadata": {},
   "source": [
    "# Step 4: Check for and Handle Missing Values\n",
    "\n",
    "We now check for any missing (`NaN`) values in the dataset.  \n",
    "Handling missing data is crucial for avoiding errors during analysis and ensuring our insights are based on complete information.\n",
    "\n",
    "We'll:\n",
    "- Count missing values per column\n",
    "- Decide on actions: drop or fill, based on impact\n"
   ]
  },
  {
   "cell_type": "code",
   "execution_count": 5,
   "id": "e76b5b46",
   "metadata": {},
   "outputs": [
    {
     "data": {
      "text/plain": [
       "Series([], dtype: int64)"
      ]
     },
     "execution_count": 5,
     "metadata": {},
     "output_type": "execute_result"
    }
   ],
   "source": [
    "# Count missing values in each column\n",
    "missing = df.isnull().sum()\n",
    "\n",
    "# Show only columns with missing values\n",
    "missing = missing[missing > 0]\n",
    "missing\n"
   ]
  },
  {
   "cell_type": "markdown",
   "id": "9dec02d8",
   "metadata": {},
   "source": [
    "# Step 5: Export Cleaned Dataset\n",
    "\n",
    "Now that the data is clean with no duplicates or missing values, we save this cleaned version for downstream analysis and visualization.\n"
   ]
  },
  {
   "cell_type": "code",
   "execution_count": 6,
   "id": "15ad7146",
   "metadata": {},
   "outputs": [
    {
     "name": "stdout",
     "output_type": "stream",
     "text": [
      "Cleaned dataset saved successfully.\n"
     ]
    }
   ],
   "source": [
    "df.to_csv('../data/superstore_cleaned.csv', index=False)\n",
    "print(\"Cleaned dataset saved successfully.\")"
   ]
  },
  {
   "cell_type": "code",
   "execution_count": null,
   "id": "933089c9",
   "metadata": {},
   "outputs": [],
   "source": []
  }
 ],
 "metadata": {
  "kernelspec": {
   "display_name": "base",
   "language": "python",
   "name": "python3"
  },
  "language_info": {
   "codemirror_mode": {
    "name": "ipython",
    "version": 3
   },
   "file_extension": ".py",
   "mimetype": "text/x-python",
   "name": "python",
   "nbconvert_exporter": "python",
   "pygments_lexer": "ipython3",
   "version": "3.11.5"
  }
 },
 "nbformat": 4,
 "nbformat_minor": 5
}
